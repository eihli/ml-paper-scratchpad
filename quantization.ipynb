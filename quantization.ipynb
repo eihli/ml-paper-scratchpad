{
 "cells": [
  {
   "cell_type": "markdown",
   "id": "dd224a03-f9cc-443a-89be-af53a7a569f3",
   "metadata": {},
   "source": [
    "# BitNet\n",
    "\n",
    "https://arxiv.org/pdf/2310.11453"
   ]
  },
  {
   "cell_type": "markdown",
   "id": "22711ade-4373-4192-9e0e-c211ab2b7363",
   "metadata": {},
   "source": [
    "What's the simplest network we could train using a regular Linear layer, so that we have a baseline to compare a BitLinear layer?"
   ]
  },
  {
   "cell_type": "code",
   "execution_count": 647,
   "id": "cb17cbf7-ba85-41e2-841a-aec175c89fc9",
   "metadata": {},
   "outputs": [],
   "source": [
    "weights = torch.tensor([[\n",
    "    -1, 0, 0, 1, -1\n",
    "]])"
   ]
  },
  {
   "cell_type": "code",
   "execution_count": 648,
   "id": "f7b68514-2d87-49b2-ad0c-16cd2860a405",
   "metadata": {},
   "outputs": [
    {
     "data": {
      "text/plain": [
       "tensor([[0.5407, 0.2908, 0.5983, 0.8868]])"
      ]
     },
     "execution_count": 648,
     "metadata": {},
     "output_type": "execute_result"
    }
   ],
   "source": [
    "torch.rand((1, 4))\n"
   ]
  },
  {
   "cell_type": "code",
   "execution_count": 649,
   "id": "da372897-9b70-4a53-af7c-803b98e197c3",
   "metadata": {},
   "outputs": [],
   "source": [
    "import torch\n",
    "import torch.nn as nn\n",
    "import torch.nn.functional as F\n",
    "from torch.utils.data.dataloader import DataLoader\n",
    "from torchvision import datasets\n",
    "import torchvision.transforms.v2 as transforms\n",
    "from tqdm.notebook import tqdm\n",
    "import matplotlib.pyplot as plt"
   ]
  },
  {
   "cell_type": "markdown",
   "id": "4b7d40e1-5114-4ce0-a0b7-a4f685253ecf",
   "metadata": {},
   "source": [
    "### Dataset\n",
    "\n",
    "Let's work with MNIST. It's quick, easy, and real-world enough that the results matter."
   ]
  },
  {
   "cell_type": "code",
   "execution_count": 650,
   "id": "2dd8351f-8b89-4813-a455-b0941f4e27a0",
   "metadata": {},
   "outputs": [],
   "source": [
    "mnist = datasets.MNIST(\"~/.data\", transform=transforms.Compose([transforms.PILToTensor(), transforms.ToDtype(torch.float32, scale=True)]))\n",
    "mnist_dl = DataLoader(mnist, batch_size=600) # 100 batches"
   ]
  },
  {
   "cell_type": "markdown",
   "id": "3e193331-c8a8-4c9a-b53b-89d73e8d5c33",
   "metadata": {},
   "source": [
    "### Linear layer model\n",
    "\n",
    "Let's use a simple Linear layer to get a baseline. Then, we'll replace the Linear layer with a BitLinear layer and compare."
   ]
  },
  {
   "cell_type": "code",
   "execution_count": 651,
   "id": "4dfd8c4b-2571-4469-a793-811c92b547e6",
   "metadata": {},
   "outputs": [],
   "source": [
    "model = nn.Sequential(\n",
    "    nn.Flatten(),\n",
    "    nn.Linear(784, 128),  # TODO: Replace this with a BitLinear layer. Compare results.\n",
    "    nn.Linear(128, 10),\n",
    "    nn.LogSoftmax(dim=1),\n",
    ")"
   ]
  },
  {
   "cell_type": "code",
   "execution_count": 652,
   "id": "955533ab-0a7d-4453-9491-65d68382d5a2",
   "metadata": {},
   "outputs": [],
   "source": [
    "def train(model, dl, lr=0.001):\n",
    "    it = iter(dl)\n",
    "    losses = []\n",
    "    for xs, ys in tqdm(it, total=100):\n",
    "        ps = model(xs)\n",
    "        loss = -torch.gather(ps, 1, ys.unsqueeze(1)).mean()\n",
    "        losses.append(loss.detach())\n",
    "        loss.backward()\n",
    "        with torch.no_grad():\n",
    "            for p in model.parameters():\n",
    "                p -= p.grad * lr\n",
    "    return model, losses"
   ]
  },
  {
   "cell_type": "code",
   "execution_count": 653,
   "id": "0ef4d54f-baf9-4229-aa71-771dc32688e4",
   "metadata": {},
   "outputs": [
    {
     "data": {
      "application/vnd.jupyter.widget-view+json": {
       "model_id": "8b9c68f6cccb42bf834b15cde058bf52",
       "version_major": 2,
       "version_minor": 0
      },
      "text/plain": [
       "  0%|          | 0/100 [00:00<?, ?it/s]"
      ]
     },
     "metadata": {},
     "output_type": "display_data"
    }
   ],
   "source": [
    "model, losses = train(model, mnist_dl)"
   ]
  },
  {
   "cell_type": "code",
   "execution_count": 654,
   "id": "02c77108-3142-43f7-a7a9-fe36223c5a97",
   "metadata": {},
   "outputs": [
    {
     "data": {
      "text/plain": [
       "[<matplotlib.lines.Line2D at 0x71107e05e650>]"
      ]
     },
     "execution_count": 654,
     "metadata": {},
     "output_type": "execute_result"
    },
    {
     "data": {
      "image/png": "[encoded data removed]",
      "text/plain": [
       "<Figure size 640x480 with 1 Axes>"
      ]
     },
     "metadata": {},
     "output_type": "display_data"
    }
   ],
   "source": [
    "plt.plot(range(100), losses)"
   ]
  },
  {
   "cell_type": "code",
   "execution_count": 655,
   "id": "38f345ba-b514-4e38-84ca-b60549b59701",
   "metadata": {},
   "outputs": [
    {
     "data": {
      "text/plain": [
       "(torch.Size([100, 1, 28, 28]), torch.Size([100]))"
      ]
     },
     "execution_count": 655,
     "metadata": {},
     "output_type": "execute_result"
    }
   ],
   "source": [
    "test = [mnist[i] for i in torch.randperm(len(mnist))[:100]]\n",
    "xs, ys = zip(*test)\n",
    "xs, ys = torch.stack(xs), torch.tensor(ys)\n",
    "xs.shape, ys.shape"
   ]
  },
  {
   "cell_type": "code",
   "execution_count": 656,
   "id": "af06b1e5-e75f-43f7-b40e-cf538509bc98",
   "metadata": {},
   "outputs": [
    {
     "data": {
      "text/plain": [
       "tensor([ True,  True,  True,  True,  True, False, False,  True,  True, False,\n",
       "        False,  True,  True,  True,  True, False, False,  True, False,  True,\n",
       "         True,  True,  True,  True,  True, False,  True,  True,  True,  True,\n",
       "        False,  True,  True, False,  True,  True,  True,  True, False, False,\n",
       "         True, False,  True, False, False,  True,  True,  True,  True,  True,\n",
       "         True,  True,  True, False,  True,  True, False,  True,  True,  True,\n",
       "         True,  True,  True,  True, False,  True,  True,  True, False,  True,\n",
       "         True,  True,  True,  True,  True,  True,  True, False,  True, False,\n",
       "         True,  True, False,  True, False,  True,  True,  True,  True, False,\n",
       "         True, False,  True,  True, False,  True,  True,  True,  True,  True])"
      ]
     },
     "execution_count": 656,
     "metadata": {},
     "output_type": "execute_result"
    }
   ],
   "source": [
    "ps = model(xs)\n",
    "ps.argmax(dim=1) == ys"
   ]
  },
  {
   "cell_type": "code",
   "execution_count": 657,
   "id": "adca71d8-1893-41a1-8bb1-4482df1e4bda",
   "metadata": {},
   "outputs": [
    {
     "data": {
      "text/plain": [
       "0.7400000095367432"
      ]
     },
     "execution_count": 657,
     "metadata": {},
     "output_type": "execute_result"
    }
   ],
   "source": [
    "accuracy = (ps.argmax(dim=1) == ys).sum() / len(ys)\n",
    "accuracy.item()"
   ]
  },
  {
   "cell_type": "markdown",
   "id": "5c78567b-5776-4267-873b-e5fc907c7af6",
   "metadata": {},
   "source": [
    "### BitLinear\n",
    "\n",
    "Now let's try to implement the BitLinear layer. We'll just go line-by-line down the paper."
   ]
  },
  {
   "attachments": {
    "bacefec1-accd-4073-963c-aaa39702973d.png": {
     "image/png": "[encoded data removed]"
    }
   },
   "cell_type": "markdown",
   "id": "973187b2-56fa-4920-93cf-9473d587f4d6",
   "metadata": {},
   "source": [
    "![image.png](attachment:bacefec1-accd-4073-963c-aaa39702973d.png)"
   ]
  },
  {
   "cell_type": "code",
   "execution_count": 659,
   "id": "7cf026cd-14ac-4855-8772-b5466337bd17",
   "metadata": {},
   "outputs": [],
   "source": [
    "# 2.1.1 - 2.1.3\n",
    "# Re-ordered from the paper so they'll execute.\n",
    "torch.manual_seed(42)\n",
    "W = torch.randn((4, 2))  # Random weights.\n",
    "\n",
    "# (2)\n",
    "def Sign(Wij):\n",
    "    return torch.where(Wij > 0, 1, -1).to(torch.int8)\n",
    "\n",
    "# (3)\n",
    "α = W.mean()  # α is unicode 03b1\n",
    "\n",
    "# (1)\n",
    "Ẅ = Sign(W - α)  # Ẅ is unicode 1e84"
   ]
  },
  {
   "cell_type": "code",
   "execution_count": 660,
   "id": "a56c08b7-f956-41f8-9c3f-c9e4cb022666",
   "metadata": {},
   "outputs": [
    {
     "data": {
      "text/plain": [
       "(tensor([[ 0.3367,  0.1288],\n",
       "         [ 0.2345,  0.2303],\n",
       "         [-1.1229, -0.1863],\n",
       "         [ 2.2082, -0.6380]]),\n",
       " tensor([[ 1, -1],\n",
       "         [ 1,  1],\n",
       "         [-1, -1],\n",
       "         [ 1, -1]], dtype=torch.int8),\n",
       " torch.int8)"
      ]
     },
     "execution_count": 660,
     "metadata": {},
     "output_type": "execute_result"
    }
   ],
   "source": [
    "W, Ẅ, Ẅ.dtype"
   ]
  },
  {
   "cell_type": "code",
   "execution_count": 661,
   "id": "128f88a2-b387-41c2-8df1-a90e8787b7a6",
   "metadata": {},
   "outputs": [
    {
     "data": {
      "text/plain": [
       "tensor([[-1.5000,  0.5000,  2.5000],\n",
       "        [ 3.2000,  1.2000, -3.3000]])"
      ]
     },
     "execution_count": 661,
     "metadata": {},
     "output_type": "execute_result"
    }
   ],
   "source": [
    "sample_weights = torch.tensor([\n",
    "    [-1.5, 0.5,  2.5],\n",
    "    [3.2,  1.2, -3.3]\n",
    "])\n",
    "sample_weights"
   ]
  },
  {
   "cell_type": "code",
   "execution_count": 662,
   "id": "97415ed3-d7f1-4480-acdc-dd72d9c9b0a6",
   "metadata": {},
   "outputs": [
    {
     "data": {
      "text/plain": [
       "tensor([[0., 1., 2., 3.],\n",
       "        [4., 5., 6., 7.]])"
      ]
     },
     "execution_count": 662,
     "metadata": {},
     "output_type": "execute_result"
    }
   ],
   "source": [
    "x = torch.arange(8).view(2, 4).to(torch.float32)\n",
    "x"
   ]
  },
  {
   "cell_type": "code",
   "execution_count": 663,
   "id": "2ab53afb-68b1-4743-913b-1cd84dfd6464",
   "metadata": {},
   "outputs": [
    {
     "data": {
      "text/plain": [
       "(tensor([[0., 1., 2., 3.],\n",
       "         [4., 5., 6., 7.]]),\n",
       " tensor([[ 1, -1],\n",
       "         [ 1,  1],\n",
       "         [-1, -1],\n",
       "         [ 1, -1]], dtype=torch.int8))"
      ]
     },
     "execution_count": 663,
     "metadata": {},
     "output_type": "execute_result"
    }
   ],
   "source": [
    "x, Ẅ"
   ]
  },
  {
   "cell_type": "code",
   "execution_count": 664,
   "id": "a0a36719-68d9-46de-83cc-fda364bbb414",
   "metadata": {},
   "outputs": [
    {
     "data": {
      "text/plain": [
       "tensor(3.5000)"
      ]
     },
     "execution_count": 664,
     "metadata": {},
     "output_type": "execute_result"
    }
   ],
   "source": [
    "x.mean()"
   ]
  },
  {
   "cell_type": "code",
   "execution_count": 665,
   "id": "f6581291-086a-4f9c-989d-0ff7ff0c1904",
   "metadata": {},
   "outputs": [
    {
     "data": {
      "text/plain": [
       "(tensor([[0., 1., 2., 3.],\n",
       "         [4., 5., 6., 7.]]),\n",
       " tensor([[-1,  1,  1,  1],\n",
       "         [ 1,  1,  1,  1]]))"
      ]
     },
     "execution_count": 665,
     "metadata": {},
     "output_type": "execute_result"
    }
   ],
   "source": [
    "x, torch.where(x <= 0, -1, 1)"
   ]
  },
  {
   "cell_type": "code",
   "execution_count": 666,
   "id": "0d3867c1-2d97-4d13-a0b1-87c0ad523dbe",
   "metadata": {},
   "outputs": [
    {
     "data": {
      "text/plain": [
       "tensor([[-1, -1, -1, -1],\n",
       "        [ 1,  1,  1,  1]])"
      ]
     },
     "execution_count": 666,
     "metadata": {},
     "output_type": "execute_result"
    }
   ],
   "source": [
    "torch.where(x - x.mean() <= 0, -1, 1)"
   ]
  },
  {
   "cell_type": "code",
   "execution_count": 667,
   "id": "1fed5b0b-8f1d-46da-b836-8c1b2bbeb7ac",
   "metadata": {},
   "outputs": [],
   "source": [
    "# 2.1.4 - 2.1.6\n",
    "x = torch.tensor([[-1, 0.0], [1, 2]])  # Arbitrary input\n",
    "ε = 1e-5                             # 03b5\n",
    "b = 8                                # 8-bit quantization\n",
    "Qb = 2**(b-1)\n",
    "\n",
    "# (4)\n",
    "def Quant_1(x):\n",
    "    \"\"\"\n",
    "    From the paper:\n",
    "\n",
    "        We further quantize the activations to b-bit precision. Following [DLBZ22 ], we use absmax quanti-\n",
    "        zation, which scales activations into the range [−Qb, Qb] (Qb = 2b−1) by multiplying with Qb and\n",
    "        dividing by the absolute maximum of the input matrix\n",
    "    \"\"\"\n",
    "    return Clip(x * (Qb / γ(x)), -Qb + ε, Qb - ε).to(torch.int8)\n",
    "\n",
    "# (5)\n",
    "def γ(x):  # 03b3\n",
    "    return x.abs().max()\n",
    "\n",
    "# (5)\n",
    "def Clip(xs, a, b):  # a=min, b=max\n",
    "    return torch.clamp(xs, a, b)\n",
    "\n",
    "# (6)\n",
    "def Quant_2(x):\n",
    "    \"\"\"\n",
    "    From the paper:\n",
    "    \n",
    "        For the activations before the non-linear functions (e.g., ReLU), we scale them into the range [0, Qb]\n",
    "        by subtracting the minimum of the inputs so that all values are non-negative\n",
    "    \"\"\"\n",
    "    return Clip((x - x.min()) * (Qb / γ(x)), -Qb + ε, Qb - ε).to(torch.int8)"
   ]
  },
  {
   "cell_type": "code",
   "execution_count": 668,
   "id": "6b089edd-61fb-427e-8f8b-a6b893072aad",
   "metadata": {},
   "outputs": [
    {
     "data": {
      "text/plain": [
       "(tensor([[-1.,  0.],\n",
       "         [ 1.,  2.]]),\n",
       " tensor([[-64,   0],\n",
       "         [ 64, 127]], dtype=torch.int8))"
      ]
     },
     "execution_count": 668,
     "metadata": {},
     "output_type": "execute_result"
    }
   ],
   "source": [
    "# How does Quant_1 transform x?\n",
    "x, Quant_1(x)"
   ]
  },
  {
   "cell_type": "code",
   "execution_count": 669,
   "id": "01bd6774-9dc8-4fa2-b942-200a5ccfdef5",
   "metadata": {},
   "outputs": [
    {
     "data": {
      "text/plain": [
       "(tensor([[-1.,  0.],\n",
       "         [ 1.,  2.]]),\n",
       " tensor([[  0,  64],\n",
       "         [127, 127]], dtype=torch.int8))"
      ]
     },
     "execution_count": 669,
     "metadata": {},
     "output_type": "execute_result"
    }
   ],
   "source": [
    "# How does Quant_2 transform x?\n",
    "x, Quant_2(x)"
   ]
  },
  {
   "cell_type": "code",
   "execution_count": 670,
   "id": "0382b691-b6ad-4abb-8881-7f5a2a52f4cd",
   "metadata": {},
   "outputs": [],
   "source": [
    "ẍ = Quant_1(x)  # 1e8d"
   ]
  },
  {
   "cell_type": "code",
   "execution_count": 671,
   "id": "996d45c5-d824-4b73-a221-4a6817e04789",
   "metadata": {},
   "outputs": [
    {
     "data": {
      "text/plain": [
       "(tensor([[ 1, -1],\n",
       "         [ 1,  1],\n",
       "         [-1, -1],\n",
       "         [ 1, -1]], dtype=torch.int8),\n",
       " tensor([[-64,   0],\n",
       "         [ 64, 127]], dtype=torch.int8),\n",
       " tensor([[-1.,  0.],\n",
       "         [ 1.,  2.]]))"
      ]
     },
     "execution_count": 671,
     "metadata": {},
     "output_type": "execute_result"
    }
   ],
   "source": [
    "Ẅ, ẍ, x"
   ]
  },
  {
   "cell_type": "code",
   "execution_count": 672,
   "id": "ea5c2f15-5f4b-4749-8d38-53a101d55992",
   "metadata": {},
   "outputs": [
    {
     "data": {
      "text/plain": [
       "tensor([[-64, -64,  64, -64],\n",
       "        [-63, -65,  65, -63]], dtype=torch.int8)"
      ]
     },
     "execution_count": 672,
     "metadata": {},
     "output_type": "execute_result"
    }
   ],
   "source": [
    "# \"With the above quantization equations, the matrix multiplication can be written as:\n",
    "# y = Ẅẍ  \n",
    "# (But F.linear does xW.t. See Microsoft paper: https://github.com/microsoft/unilm/blob/master/bitnet/The-Era-of-1-bit-LLMs__Training_Tips_Code_FAQ.pdf)\n",
    "y = F.linear(ẍ, Ẅ)\n",
    "y"
   ]
  },
  {
   "cell_type": "code",
   "execution_count": 673,
   "id": "07236538-d1b3-4777-ac3d-89a132e40de6",
   "metadata": {},
   "outputs": [
    {
     "data": {
      "text/plain": [
       "tensor([[-64, -64,  64, -64],\n",
       "        [-63, -65,  65, -63]], dtype=torch.int8)"
      ]
     },
     "execution_count": 673,
     "metadata": {},
     "output_type": "execute_result"
    }
   ],
   "source": [
    "F.linear(ẍ, Ẅ)"
   ]
  },
  {
   "cell_type": "code",
   "execution_count": 674,
   "id": "da08152a-7d4e-4f36-8e56-cf209d745ce4",
   "metadata": {},
   "outputs": [
    {
     "data": {
      "text/plain": [
       "(torch.float32, torch.float32, torch.int8, torch.int8)"
      ]
     },
     "execution_count": 674,
     "metadata": {},
     "output_type": "execute_result"
    }
   ],
   "source": [
    "W.dtype, x.dtype, Ẅ.dtype, ẍ.dtype"
   ]
  },
  {
   "cell_type": "markdown",
   "id": "c9ad8577-70c3-4d2a-8a5c-a3a0f1bbd0cc",
   "metadata": {},
   "source": [
    "# BitLinear Module\n",
    "\n",
    "## TODO: Complete\n",
    "\n",
    "The next few cells will fail. I'm leaving them here as a placeholder while I figure out what to do."
   ]
  },
  {
   "cell_type": "code",
   "execution_count": null,
   "id": "eac96690-195e-4ebf-b8c4-d1f6e4d14f31",
   "metadata": {},
   "outputs": [],
   "source": []
  },
  {
   "cell_type": "code",
   "execution_count": 677,
   "id": "7cb78360-3a4b-4060-b621-69d76cefebd7",
   "metadata": {},
   "outputs": [],
   "source": [
    "import torch\n",
    "import torch.nn as nn\n",
    "import torch.nn.init as init\n",
    "from torch import Tensor\n",
    "\n",
    "\n",
    "class RMSNorm(nn.Module):\n",
    "    def __init__(self, dim, eps: float = 1e-8, bias: bool = False) -> None:\n",
    "        super(RMSNorm, self).__init__()\n",
    "        self.eps = eps\n",
    "        self.scale = nn.Parameter(torch.empty(dim))\n",
    "        if bias:\n",
    "            self.bias = nn.Parameter(torch.empty(dim))\n",
    "        else:\n",
    "            self.register_parameter('bias', None)\n",
    "        self.reset_parameters()\n",
    "\n",
    "    def reset_parameters(self) -> None:\n",
    "        init.ones_(self.scale)\n",
    "        if self.bias is not None:\n",
    "            init.zeros_(self.bias)\n",
    "\n",
    "    def forward(self, input: Tensor) -> Tensor:\n",
    "        var = input.pow(2).mean(dim=-1, keepdim=True) + self.eps\n",
    "        input_norm = input * torch.rsqrt(var)\n",
    "\n",
    "        rmsnorm = self.scale * input_norm\n",
    "\n",
    "        if self.bias is not None:\n",
    "            rmsnorm = rmsnorm + self.bias\n",
    "\n",
    "        return rmsnorm"
   ]
  },
  {
   "cell_type": "code",
   "execution_count": 678,
   "id": "8ccaec34-46e0-4d8d-aa5f-1b0b53579887",
   "metadata": {},
   "outputs": [],
   "source": [
    "class BitLinear(nn.Linear):\n",
    "    def __init__(self, input_dims, output_dims, *args, **kwargs):\n",
    "        super().__init__(input_dims, output_dims, *args, **kwargs)\n",
    "        self.rms = RMSNorm((input_dims,))\n",
    "        self.first_run = True  # Only used for demonstrating proof-of-concept\n",
    "\n",
    "    def forward(self, x):\n",
    "        w = self.weight\n",
    "        x_norm = self.rms(x)\n",
    "        # A trick for implementing Straight-Through-Estimator (STE) using detach()\n",
    "        x_quant = x_norm + (Quant_1(x_norm) - x_norm).detach()\n",
    "        w_quant = w + (Sign(w) - w).detach()\n",
    "        # Just to prove that we're doing operations on 1-bit weights and 8-bit activations, let's log it the first time.\n",
    "        if self.first_run == True:\n",
    "            print(f\"quantized inputs: x.min() {x_quant.min()}, x.max() {x_quant.max()}\")\n",
    "            print(f\"quantized weights: w.min() {w_quant.min()} w.max() {w_quant.max()}\")\n",
    "            self.first_run = False\n",
    "        y = F.linear(x_quant, w_quant)\n",
    "        return y"
   ]
  },
  {
   "cell_type": "code",
   "execution_count": 679,
   "id": "d9c0b078-dd70-43ac-9973-cd4798a8066b",
   "metadata": {},
   "outputs": [],
   "source": [
    "model = nn.Sequential(\n",
    "    nn.Flatten(),\n",
    "    BitLinear(784, 128, bias=False),  # TODO: Replace this with a BitLinear layer. Compare results.\n",
    "    BitLinear(128, 10, bias=False),\n",
    "    nn.LogSoftmax(dim=1),\n",
    ")"
   ]
  },
  {
   "cell_type": "code",
   "execution_count": 680,
   "id": "1ab7dcfb-f430-4995-9a06-822e79653efd",
   "metadata": {},
   "outputs": [],
   "source": [
    "def train(model, dl, lr=0.001):\n",
    "    it = iter(dl)\n",
    "    losses = []\n",
    "    for xs, ys in tqdm(it, total=100):\n",
    "        ps = model(xs)\n",
    "        loss = -torch.gather(ps, 1, ys.unsqueeze(1)).mean()\n",
    "        losses.append(loss.detach())\n",
    "        loss.backward()\n",
    "        with torch.no_grad():\n",
    "            for p in model.parameters():\n",
    "                p -= p.grad * lr\n",
    "    return model, losses"
   ]
  },
  {
   "cell_type": "code",
   "execution_count": 681,
   "id": "4e34aabc-12ea-4c73-91e0-3d75cdff7acc",
   "metadata": {},
   "outputs": [
    {
     "data": {
      "application/vnd.jupyter.widget-view+json": {
       "model_id": "781e7b3e84be4880a79ef9c3f95fd29e",
       "version_major": 2,
       "version_minor": 0
      },
      "text/plain": [
       "  0%|          | 0/100 [00:00<?, ?it/s]"
      ]
     },
     "metadata": {},
     "output_type": "display_data"
    },
    {
     "name": "stdout",
     "output_type": "stream",
     "text": [
      "quantized inputs: x.min() 0.0, x.max() 127.0\n",
      "quantized weights: w.min() -1.0 w.max() 1.0\n",
      "quantized inputs: x.min() -123.0, x.max() 127.0\n",
      "quantized weights: w.min() -1.0 w.max() 1.0\n"
     ]
    }
   ],
   "source": [
    "model, losses = train(model, mnist_dl)"
   ]
  },
  {
   "cell_type": "code",
   "execution_count": 682,
   "id": "58eff5c7-24a9-4eea-84a2-5dc01470fbf9",
   "metadata": {},
   "outputs": [
    {
     "data": {
      "text/plain": [
       "[<matplotlib.lines.Line2D at 0x71107e0bbf10>]"
      ]
     },
     "execution_count": 682,
     "metadata": {},
     "output_type": "execute_result"
    },
    {
     "data": {
      "image/png": "[encoded data removed]",
      "text/plain": [
       "<Figure size 640x480 with 1 Axes>"
      ]
     },
     "metadata": {},
     "output_type": "display_data"
    }
   ],
   "source": [
    "plt.plot(range(100), losses)"
   ]
  },
  {
   "cell_type": "code",
   "execution_count": 683,
   "id": "ba7f6139-bee6-4198-8ae3-aeb9650b5c68",
   "metadata": {},
   "outputs": [
    {
     "data": {
      "text/plain": [
       "(torch.Size([100, 1, 28, 28]), torch.Size([100]))"
      ]
     },
     "execution_count": 683,
     "metadata": {},
     "output_type": "execute_result"
    }
   ],
   "source": [
    "test = [mnist[i] for i in torch.randperm(len(mnist))[:100]]\n",
    "xs, ys = zip(*test)\n",
    "xs, ys = torch.stack(xs), torch.tensor(ys)\n",
    "xs.shape, ys.shape"
   ]
  },
  {
   "cell_type": "code",
   "execution_count": 684,
   "id": "235923be-f806-453b-8061-be8412b1ab71",
   "metadata": {},
   "outputs": [
    {
     "data": {
      "text/plain": [
       "tensor([ True,  True,  True,  True, False,  True,  True,  True,  True,  True,\n",
       "         True,  True,  True,  True,  True, False,  True,  True,  True,  True,\n",
       "         True,  True,  True,  True,  True, False,  True, False,  True,  True,\n",
       "         True,  True,  True,  True,  True,  True,  True,  True,  True,  True,\n",
       "        False,  True,  True,  True,  True,  True,  True,  True,  True,  True,\n",
       "         True,  True,  True,  True, False,  True, False,  True, False,  True,\n",
       "        False,  True,  True,  True,  True,  True, False,  True, False,  True,\n",
       "         True,  True,  True,  True,  True,  True, False,  True,  True,  True,\n",
       "         True,  True,  True,  True,  True,  True,  True,  True,  True,  True,\n",
       "         True, False,  True, False,  True,  True, False,  True,  True, False])"
      ]
     },
     "execution_count": 684,
     "metadata": {},
     "output_type": "execute_result"
    }
   ],
   "source": [
    "ps = model(xs)\n",
    "ps.argmax(dim=1) == ys"
   ]
  },
  {
   "cell_type": "code",
   "execution_count": 685,
   "id": "4e5ceed1-424c-45ef-bff4-143aaac7d471",
   "metadata": {},
   "outputs": [
    {
     "data": {
      "text/plain": [
       "0.8399999737739563"
      ]
     },
     "execution_count": 685,
     "metadata": {},
     "output_type": "execute_result"
    }
   ],
   "source": [
    "accuracy = (ps.argmax(dim=1) == ys).sum() / len(ys)\n",
    "accuracy.item()"
   ]
  },
  {
   "cell_type": "markdown",
   "id": "2e04c161-15cb-4e03-8be3-00d36087f879",
   "metadata": {},
   "source": [
    "# Normalization\n",
    "\n",
    "Demonstrate Karpathy's explanation: https://youtu.be/P6sfmUTpUmc?t=2540"
   ]
  },
  {
   "cell_type": "markdown",
   "id": "6bfd50cb-911a-4a56-83a5-6d08c9b3bd91",
   "metadata": {},
   "source": [
    "First, what _is_ \"unit gaussian\"?\n",
    "\n",
    "https://stats.stackexchange.com/questions/248776/can-someone-explain-intuitively-what-does-0-mean-and-unit-variance-mean\n",
    "\n",
    "https://en.wikipedia.org/wiki/Normal_distribution\n",
    "\n",
    "> Standard normal distribution\n",
    ">\n",
    "> The simplest case of a normal distribution is known as the standard normal distribution or unit normal distribution. This is a special case when μ = 0 {\\textstyle \\mu =0} and σ 2 = 1 {\\textstyle \\sigma ^{2}=1}, and it is described by this probability density function (or density): "
   ]
  },
  {
   "cell_type": "code",
   "execution_count": 462,
   "id": "57f2039f-968f-4447-b7a3-3e24061f39b6",
   "metadata": {},
   "outputs": [
    {
     "data": {
      "text/plain": [
       "(tensor(-0.0534),\n",
       " tensor(0.3979),\n",
       " tensor([[-0.2261,  0.4935, -0.4355, -0.0453]]))"
      ]
     },
     "execution_count": 462,
     "metadata": {},
     "output_type": "execute_result"
    }
   ],
   "source": [
    "# We can generate that with torch.normal\n",
    "example = torch.normal(0, 1, (1, 4))\n",
    "example.mean(), example.std(), example"
   ]
  },
  {
   "cell_type": "code",
   "execution_count": 471,
   "id": "0702569b-e255-47bb-9251-c4271543d857",
   "metadata": {},
   "outputs": [
    {
     "data": {
      "text/plain": [
       "(tensor(1.7000),\n",
       " tensor(2.8714),\n",
       " tensor([[-1.0000,  2.5000,  5.2000, -1.5000,  3.3000]]))"
      ]
     },
     "execution_count": 471,
     "metadata": {},
     "output_type": "execute_result"
    }
   ],
   "source": [
    "# Imagine we have a hidden layer with outputs that are _not_ unit Gaussian.\n",
    "hidden_layer = torch.tensor([[\n",
    "    -1.0, 2.5, 5.2, -1.5, 3.3\n",
    "]])\n",
    "hidden_layer.mean(), hidden_layer.std(), hidden_layer"
   ]
  },
  {
   "cell_type": "code",
   "execution_count": 472,
   "id": "f243773a-74de-45ef-81ec-8ddee50b4187",
   "metadata": {},
   "outputs": [],
   "source": [
    "hidden_mean, hidden_std = hidden_layer.mean(), hidden_layer.std()"
   ]
  },
  {
   "cell_type": "code",
   "execution_count": 473,
   "id": "b72e6a9e-317c-4fb9-8c66-aefc40d7a687",
   "metadata": {},
   "outputs": [
    {
     "data": {
      "text/plain": [
       "tensor([[-2.7000,  0.8000,  3.5000, -3.2000,  1.6000]])"
      ]
     },
     "execution_count": 473,
     "metadata": {},
     "output_type": "execute_result"
    }
   ],
   "source": [
    "hidden_scaled = (hidden_layer - hidden_mean)\n",
    "hidden_scaled"
   ]
  },
  {
   "cell_type": "code",
   "execution_count": 474,
   "id": "9f799237-2881-47f0-ac60-21ef116e5ff8",
   "metadata": {},
   "outputs": [
    {
     "data": {
      "text/plain": [
       "(tensor([[-0.9403,  0.2786,  1.2189, -1.1144,  0.5572]]),\n",
       " tensor(0.),\n",
       " tensor(1.))"
      ]
     },
     "execution_count": 474,
     "metadata": {},
     "output_type": "execute_result"
    }
   ],
   "source": [
    "hidden_scaled = hidden_scaled / hidden_std\n",
    "hidden_scaled, hidden_scaled.mean(), hidden_scaled.std()"
   ]
  },
  {
   "cell_type": "code",
   "execution_count": 475,
   "id": "20f1a627-66e6-4ef9-bbc5-51c660587525",
   "metadata": {},
   "outputs": [
    {
     "data": {
      "text/plain": [
       "tensor([[-1.0000,  2.5000,  5.2000, -1.5000,  3.3000]])"
      ]
     },
     "execution_count": 475,
     "metadata": {},
     "output_type": "execute_result"
    }
   ],
   "source": [
    "hidden_unscaled = (hidden_scaled * hidden_std) + hidden_mean\n",
    "hidden_unscaled"
   ]
  },
  {
   "cell_type": "code",
   "execution_count": null,
   "id": "d669611f-855c-4743-b197-2bd6f915c332",
   "metadata": {},
   "outputs": [],
   "source": []
  },
  {
   "cell_type": "markdown",
   "id": "213fc55c-8990-4dc6-b659-deed1efef810",
   "metadata": {},
   "source": [
    "## Distribution of -1, 0, 1 of rounded/clipped standard normal distribution?\n",
    "\n",
    "How many -1, 0, and 1 would you get if you took a tensor of 100 standard normal distribution numbers, rounded them, and clamped them to -1, 1?"
   ]
  },
  {
   "cell_type": "code",
   "execution_count": 493,
   "id": "208ac1f0-6686-44b6-9719-5c803ba8c11f",
   "metadata": {},
   "outputs": [
    {
     "data": {
      "text/plain": [
       "(tensor([-1., -0.,  1.]), tensor([30895, 38234, 30871]))"
      ]
     },
     "execution_count": 493,
     "metadata": {},
     "output_type": "execute_result"
    }
   ],
   "source": [
    "example = torch.normal(0, 1, (1, 100000))\n",
    "torch.clamp(example.round(), -1, 1).unique(return_counts=True)"
   ]
  },
  {
   "cell_type": "markdown",
   "id": "f4723f8c-1b02-41c5-b3b8-b624dd26f056",
   "metadata": {},
   "source": [
    "Slightly more 0s than -1 and 1. Interesting."
   ]
  }
 ],
 "metadata": {
  "kernelspec": {
   "display_name": "Python 3 (ipykernel)",
   "language": "python",
   "name": "python3"
  },
  "language_info": {
   "codemirror_mode": {
    "name": "ipython",
    "version": 3
   },
   "file_extension": ".py",
   "mimetype": "text/x-python",
   "name": "python",
   "nbconvert_exporter": "python",
   "pygments_lexer": "ipython3",
   "version": "3.10.12"
  }
 },
 "nbformat": 4,
 "nbformat_minor": 5
}
